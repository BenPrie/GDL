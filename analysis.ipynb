{
 "cells": [
  {
   "cell_type": "code",
   "execution_count": 1,
   "id": "initial_id",
   "metadata": {
    "collapsed": true,
    "ExecuteTime": {
     "end_time": "2025-04-05T14:15:13.851010700Z",
     "start_time": "2025-04-05T14:15:08.661807800Z"
    }
   },
   "outputs": [
    {
     "name": "stdout",
     "output_type": "stream",
     "text": [
      "Using cuda\n"
     ]
    }
   ],
   "source": [
    "# Imports, as always...\n",
    "import random\n",
    "import numpy as np\n",
    "\n",
    "import torch\n",
    "import torch.nn as nn\n",
    "import torch.nn.functional as F\n",
    "\n",
    "from torchvision.datasets import MNIST\n",
    "from torch.utils.data import TensorDataset, DataLoader\n",
    "\n",
    "from scripts.dataset import get_projection_grid,icosahedral_grid_coordinates, random_rotation_matrix, rotate_grid, project_2d_on_sphere, s2_to_ico, random_icosahedral_rotation_matrix, rotate_signal\n",
    "from scipy.spatial.transform import Rotation as R\n",
    "\n",
    "from scripts.model import IcoCNN\n",
    "\n",
    "import matplotlib.pyplot as plt\n",
    "import matplotlib.cm as cm\n",
    "\n",
    "from tqdm.notebook import tqdm\n",
    "\n",
    "import warnings\n",
    "warnings.filterwarnings('ignore')\n",
    "\n",
    "device = 'cuda' if torch.cuda.is_available() else 'cpu'\n",
    "print(f'Using {device}')"
   ]
  },
  {
   "cell_type": "code",
   "execution_count": 2,
   "outputs": [],
   "source": [
    "def new_icosahedral_model():\n",
    "    return IcoCNN(r=3, in_channels=1, out_channels=10, R_in=1, bias=True, smooth_vertices=True)"
   ],
   "metadata": {
    "collapsed": false,
    "ExecuteTime": {
     "end_time": "2025-04-05T14:15:13.853410800Z",
     "start_time": "2025-04-05T14:15:13.849721700Z"
    }
   },
   "id": "5ebfa004d3b82f6"
  },
  {
   "cell_type": "code",
   "execution_count": 3,
   "outputs": [],
   "source": [
    "grid = get_projection_grid(b=24)\n",
    "ico_grid = icosahedral_grid_coordinates(r=3)"
   ],
   "metadata": {
    "collapsed": false,
    "ExecuteTime": {
     "end_time": "2025-04-05T14:15:13.959265200Z",
     "start_time": "2025-04-05T14:15:13.854354600Z"
    }
   },
   "id": "84e63ac40e5bbc19"
  },
  {
   "cell_type": "markdown",
   "source": [
    "# Analysis"
   ],
   "metadata": {
    "collapsed": false
   },
   "id": "b8084a2fcbfff3fd"
  },
  {
   "cell_type": "code",
   "execution_count": 7,
   "outputs": [],
   "source": [
    "def augment_and_project(x, grid, augment):\n",
    "    # Augmentation.\n",
    "    if augment == 's2':\n",
    "        # Random continuous rotation.\n",
    "        rotation_matrix = random_rotation_matrix()\n",
    "        rotated_grid = rotate_grid(rotation_matrix, grid)\n",
    "    elif augment == 'ico':\n",
    "        # Random discrete rotation from the icosahedral symmetry group.\n",
    "        icosahedral_group = R.create_group('I')\n",
    "        icosahedral_rotations = icosahedral_group.as_matrix()\n",
    "        rotation_matrix = random.choice(icosahedral_rotations)\n",
    "        rotated_grid = rotate_grid(rotation_matrix, grid)\n",
    "    else:\n",
    "        rotated_grid = grid\n",
    "        \n",
    "    # Project.\n",
    "    x = project_2d_on_sphere(x.numpy(), rotated_grid)\n",
    "    return torch.from_numpy(\n",
    "        x[:, None, :, :].astype(np.float32)\n",
    "    )"
   ],
   "metadata": {
    "collapsed": false,
    "ExecuteTime": {
     "end_time": "2025-04-05T14:19:27.798248700Z",
     "start_time": "2025-04-05T14:19:27.798248700Z"
    }
   },
   "id": "547bc61af526cd5"
  },
  {
   "cell_type": "code",
   "execution_count": 8,
   "outputs": [],
   "source": [
    "# Define models.\n",
    "models = {\n",
    "    # Indexed by their training data's augmentation.\n",
    "    'none' : new_icosahedral_model(),\n",
    "    'ico'  : new_icosahedral_model(),\n",
    "    's2'   : new_icosahedral_model()\n",
    "}\n",
    "\n",
    "# Load and move to device.\n",
    "for augment, model in models.items():\n",
    "    model.load_state_dict(torch.load(f'./models/online_augment/icosahedral_{augment}.pth'))\n",
    "    model.to(device)"
   ],
   "metadata": {
    "collapsed": false,
    "ExecuteTime": {
     "end_time": "2025-04-05T14:19:30.598540500Z",
     "start_time": "2025-04-05T14:19:29.658953100Z"
    }
   },
   "id": "7cc0e0f884adc1c5"
  },
  {
   "cell_type": "code",
   "execution_count": 9,
   "outputs": [],
   "source": [
    "# Test data.\n",
    "raw_test_dataset = MNIST(root='./data', train=False, download=True)\n",
    "raw_test_data = raw_test_dataset.test_data.reshape(-1, 28, 28).to(torch.float64)\n",
    "raw_test_labels = raw_test_dataset.test_labels\n",
    "\n",
    "# Into dataset and loader objects.\n",
    "test_dataset = TensorDataset(\n",
    "    raw_test_data,\n",
    "    raw_test_labels\n",
    ")\n",
    "test_loader = DataLoader(test_dataset, batch_size=64)"
   ],
   "metadata": {
    "collapsed": false,
    "ExecuteTime": {
     "end_time": "2025-04-05T14:19:33.720565500Z",
     "start_time": "2025-04-05T14:19:33.487289700Z"
    }
   },
   "id": "82b8cb7249852462"
  },
  {
   "cell_type": "markdown",
   "source": [
    "## Invariance"
   ],
   "metadata": {
    "collapsed": false
   },
   "id": "45763c97110339b5"
  },
  {
   "cell_type": "code",
   "execution_count": 177,
   "outputs": [],
   "source": [
    "def invariance_test(model, loader, rotation_type='ico', verbose=False):\n",
    "    running_loss = .0\n",
    "    \n",
    "    with torch.no_grad():\n",
    "        for x, _ in (tqdm(loader, desc='Tseting.') if verbose else loader):\n",
    "            # Augment and project.\n",
    "            x_prime = augment_and_project(x, grid, augment=rotation_type)\n",
    "            x = augment_and_project(x, grid, augment='none')\n",
    "            \n",
    "            # Onto the icosahedron.\n",
    "            ico_x = torch.tensor([s2_to_ico(signal, ico_grid) for signal in x])\n",
    "            ico_x_prime = torch.tensor([s2_to_ico(signal, ico_grid) for signal in x_prime])\n",
    "            \n",
    "            # Move to device.\n",
    "            ico_x = ico_x.to(device)\n",
    "            ico_x_prime = ico_x_prime.to(device)\n",
    "            \n",
    "            # Model.\n",
    "            y = model(ico_x)\n",
    "            y_prime = model(ico_x_prime)\n",
    "            \n",
    "            # Log softmax.\n",
    "            y = F.log_softmax(y, dim=1)\n",
    "            y_prime = F.log_softmax(y_prime, dim=1)\n",
    "            \n",
    "            # KL divergence to measure agreement.\n",
    "            running_loss += F.kl_div(y, y_prime, log_target=True).item()\n",
    "            \n",
    "    return running_loss / len(loader.dataset)"
   ],
   "metadata": {
    "collapsed": false,
    "ExecuteTime": {
     "end_time": "2025-04-05T01:10:12.735495300Z",
     "start_time": "2025-04-05T01:10:12.672866Z"
    }
   },
   "id": "2a7b683c4c6a510b"
  },
  {
   "cell_type": "code",
   "execution_count": 178,
   "outputs": [
    {
     "data": {
      "text/plain": "  0%|          | 0/3 [00:00<?, ?it/s]",
      "application/vnd.jupyter.widget-view+json": {
       "version_major": 2,
       "version_minor": 0,
       "model_id": "62a5542754c549dabff0ea8c9fd4739b"
      }
     },
     "metadata": {},
     "output_type": "display_data"
    }
   ],
   "source": [
    "inv_stats = {\n",
    "    # Indexed by augmentation.\n",
    "    augment : {'ico' : None, 's2' : None} for augment in models.keys()\n",
    "}\n",
    "\n",
    "for train_augment, model in tqdm(models.items()):\n",
    "    for test_augment in inv_stats[train_augment].keys():\n",
    "        inv_stats[train_augment][test_augment] = invariance_test(model, test_loader, rotation_type=test_augment, verbose=False)"
   ],
   "metadata": {
    "collapsed": false,
    "ExecuteTime": {
     "end_time": "2025-04-05T01:14:05.119272600Z",
     "start_time": "2025-04-05T01:10:21.761356200Z"
    }
   },
   "id": "5fc9487e4e50812f"
  },
  {
   "cell_type": "code",
   "execution_count": 10,
   "outputs": [],
   "source": [
    "inv_stats = {\n",
    "    'none': {'ico': 0.06040518444776535, 's2': 0.060014734053611754},\n",
    "     'ico': {'ico': 0.0004992915648035705, 's2': 0.008268330442532897},\n",
    "     's2': {'ico': 0.0006483823381364345, 's2': 0.0006396127253770829}\n",
    "}"
   ],
   "metadata": {
    "collapsed": false,
    "ExecuteTime": {
     "end_time": "2025-04-05T14:20:21.396265100Z",
     "start_time": "2025-04-05T14:20:21.372003200Z"
    }
   },
   "id": "87694547b77c9b9b"
  },
  {
   "cell_type": "code",
   "execution_count": 11,
   "outputs": [
    {
     "data": {
      "text/plain": "<Figure size 600x400 with 1 Axes>",
      "image/png": "[encoded data removed]"
     },
     "metadata": {},
     "output_type": "display_data"
    }
   ],
   "source": [
    "def do_invariance_plot(save_path):\n",
    "    # --- Data Preparation ---\n",
    "    # Categories for the x-axis (e.g., 'none', 'ico', 's2')\n",
    "    x_categories = list(inv_stats.keys())\n",
    "    # Assuming group labels ('ico', 's2') are consistent across categories\n",
    "    group_labels = list(inv_stats[x_categories[0]].keys())\n",
    "\n",
    "    # Reorganize scores: {group_label: [score_cat1, score_cat2, ...], ...}\n",
    "    # This structure groups scores by the type of rotation ('ico' or 's2')\n",
    "    scores_by_group = {group: [] for group in group_labels}\n",
    "    for category in x_categories:\n",
    "        for group in group_labels:\n",
    "            scores_by_group[group].append(inv_stats[category][group])\n",
    "\n",
    "    # --- Plotting Setup ---\n",
    "    n_x_categories = len(x_categories)\n",
    "    n_groups = len(group_labels)\n",
    "\n",
    "    # Calculate bar positions to achieve grouping (following example style)\n",
    "    x_indices = np.arange(n_x_categories) # Base positions for the groups [0, 1, 2]\n",
    "    bar_width = 0.35  # Width of a single bar\n",
    "    # Total width occupied by the bars for one x_category\n",
    "    total_group_width = bar_width * n_groups\n",
    "    # Calculate the offset needed to center the group of bars over the x-tick\n",
    "    offset_for_centering = (total_group_width - bar_width) / 2\n",
    "\n",
    "    fig, ax = plt.subplots(figsize=(6, 4)) # Adjust figure size if needed\n",
    "\n",
    "    cmap_name = 'Set3'\n",
    "    colormap = cm.get_cmap(cmap_name)\n",
    "    colors = [colormap(i) for i in np.linspace(0, 0.85, n_groups)]\n",
    "    ax.set_prop_cycle(color=colors)\n",
    "\n",
    "    # --- Create Bars ---\n",
    "    # Loop through each group ('ico', 's2') and plot its bars across all x_categories\n",
    "    for i, group in enumerate(group_labels):\n",
    "        # Calculate the specific x-position for the bars of the current group\n",
    "        # Start from the center (x_indices), shift left to center the whole group,\n",
    "        # then shift right based on the current group's index (i).\n",
    "        bar_positions = x_indices - offset_for_centering + i * bar_width\n",
    "\n",
    "        # Get the scores for this specific group (e.g., all 'ico' scores)\n",
    "        scores = scores_by_group[group]\n",
    "\n",
    "        # Plot the bars for the current group\n",
    "        rects = ax.bar(bar_positions, scores, bar_width,\n",
    "                       label=group.capitalize()) # Use group name for legend\n",
    "\n",
    "        # Add score labels above each bar\n",
    "        ax.bar_label(rects, padding=3, fmt='%.4f') # Format for score values\n",
    "\n",
    "    # --- Customize Plot ---\n",
    "    ax.set_xlabel('Train-time augmentation', fontsize=12)\n",
    "    ax.set_ylabel('Test Invariance (KL-Divergence)', fontsize=12)\n",
    "    # ax.set_title('Model Invariance Score by Training Dataset and Rotation Type') # Optional title\n",
    "    ax.set_xticks(x_indices) # Set the positions of the x-axis ticks to the group centers\n",
    "    ax.set_xticklabels([x.capitalize() for x in x_categories]) # Set the labels for the x-axis ticks\n",
    "    ax.legend(title='Rotation Type') # Add a legend to identify bar colors\n",
    "\n",
    "    # Optional: Remove plot borders like in the example\n",
    "    ax.spines['top'].set_visible(False)\n",
    "    ax.spines['right'].set_visible(False)\n",
    "\n",
    "    # Adjust layout to prevent labels overlapping\n",
    "    plt.tight_layout()\n",
    "\n",
    "    # --- Save Plot (Optional) ---\n",
    "    if save_path is not None:\n",
    "        plt.savefig(save_path, bbox_inches='tight') # Use bbox_inches for tight saving\n",
    "\n",
    "    # --- Show Plot ---\n",
    "    plt.show()\n",
    "    \n",
    "do_invariance_plot('./figures/invariance_by_augment.pdf')"
   ],
   "metadata": {
    "collapsed": false,
    "ExecuteTime": {
     "end_time": "2025-04-05T14:20:47.529109100Z",
     "start_time": "2025-04-05T14:20:47.198643500Z"
    }
   },
   "id": "3d473309145e85"
  },
  {
   "cell_type": "markdown",
   "source": [
    "## Equivariance"
   ],
   "metadata": {
    "collapsed": false
   },
   "id": "60a294fe69683599"
  },
  {
   "cell_type": "code",
   "execution_count": 27,
   "outputs": [],
   "source": [
    "def equivariance_test(model, loader, rotation_type='ico', verbose=False):\n",
    "    running_loss = .0\n",
    "    \n",
    "    with torch.no_grad():\n",
    "        for x, _ in (tqdm(loader, desc='Testing.') if verbose else loader):\n",
    "            # Augmentation.\n",
    "            if rotation_type == 's2':\n",
    "                # Random continuous rotation.\n",
    "                rotation_matrix = random_rotation_matrix()\n",
    "                \n",
    "            else:\n",
    "                # Random discrete rotation from the icosahedral symmetry group.\n",
    "                icosahedral_group = R.create_group('I')\n",
    "                icosahedral_rotations = icosahedral_group.as_matrix()\n",
    "                rotation_matrix = random.choice(icosahedral_rotations)\n",
    "                #rotation_matrix = random_icosahedral_rotation_matrix()\n",
    "                \n",
    "            #rotated_grid = rotate_grid(rotation_matrix, grid)\n",
    "                \n",
    "            #x_prime = project_2d_on_sphere(x.numpy(), rotated_grid)\n",
    "            #x_prime = torch.from_numpy(\n",
    "            #    x_prime[:, None, :, :].astype(np.float32)\n",
    "            #)\n",
    "            \n",
    "            x = project_2d_on_sphere(x.numpy(), grid)\n",
    "            x = torch.from_numpy(\n",
    "                x[:, None, :, :].astype(np.float32)\n",
    "            )\n",
    "            \n",
    "            # Onto the icosahedron.\n",
    "            ico_x = torch.tensor([s2_to_ico(signal, ico_grid) for signal in x])\n",
    "            ico_x_prime = torch.tensor([rotate_signal(ico_signal, rotation_matrix).numpy() for ico_signal in ico_x])\n",
    "            \n",
    "            # Move to device.\n",
    "            ico_x = ico_x.to(device)\n",
    "            ico_x_prime = ico_x_prime.to(device)\n",
    "            \n",
    "            # Model.\n",
    "            y = F.relu(model.conv1(ico_x))\n",
    "            y = F.relu(model.conv2(y))\n",
    "            \n",
    "            y_prime = F.relu(model.conv1(ico_x_prime))\n",
    "            y_prime = F.relu(model.conv2(y_prime))\n",
    "            \n",
    "            # Rotating output for y.\n",
    "            y = torch.tensor([rotate_signal(ico_signal, rotation_matrix).cpu().numpy() for ico_signal in y])\n",
    "            y = y.to(device)\n",
    "            \n",
    "            # Measure similarity.\n",
    "            #running_loss += torch.mean((y - y_prime) ** 2).item()\n",
    "            running_loss += F.cosine_similarity(\n",
    "                y.view(y.size(0), y.size(1), -1),\n",
    "                y_prime.view(y.size(0), y.size(1), -1),\n",
    "            dim=-1).mean().item()\n",
    "            \n",
    "    return running_loss / len(loader.dataset)"
   ],
   "metadata": {
    "collapsed": false,
    "ExecuteTime": {
     "end_time": "2025-04-05T17:54:15.206602400Z",
     "start_time": "2025-04-05T17:54:15.185571600Z"
    }
   },
   "id": "9c0d783a2e74f708"
  },
  {
   "cell_type": "code",
   "execution_count": 30,
   "outputs": [
    {
     "data": {
      "text/plain": "  0%|          | 0/3 [00:00<?, ?it/s]",
      "application/vnd.jupyter.widget-view+json": {
       "version_major": 2,
       "version_minor": 0,
       "model_id": "c5f0de58508b4faaa1c0a90eb9b60ee5"
      }
     },
     "metadata": {},
     "output_type": "display_data"
    },
    {
     "data": {
      "text/plain": "Testing.:   0%|          | 0/157 [00:00<?, ?it/s]",
      "application/vnd.jupyter.widget-view+json": {
       "version_major": 2,
       "version_minor": 0,
       "model_id": "58ee065fe95f46359c3c5711901a5138"
      }
     },
     "metadata": {},
     "output_type": "display_data"
    },
    {
     "data": {
      "text/plain": "Testing.:   0%|          | 0/157 [00:00<?, ?it/s]",
      "application/vnd.jupyter.widget-view+json": {
       "version_major": 2,
       "version_minor": 0,
       "model_id": "92235780e0264ce686dcd350bf77b51a"
      }
     },
     "metadata": {},
     "output_type": "display_data"
    },
    {
     "data": {
      "text/plain": "Testing.:   0%|          | 0/157 [00:00<?, ?it/s]",
      "application/vnd.jupyter.widget-view+json": {
       "version_major": 2,
       "version_minor": 0,
       "model_id": "4666fcb5f362405386eb8c244f1685e6"
      }
     },
     "metadata": {},
     "output_type": "display_data"
    },
    {
     "data": {
      "text/plain": "Testing.:   0%|          | 0/157 [00:00<?, ?it/s]",
      "application/vnd.jupyter.widget-view+json": {
       "version_major": 2,
       "version_minor": 0,
       "model_id": "648ba3d3bb9c458db5df27bfb3d5aeae"
      }
     },
     "metadata": {},
     "output_type": "display_data"
    }
   ],
   "source": [
    "equ_stats = {\n",
    "    # Indexed by augmentation.\n",
    "    augment : {'ico' : None, 's2' : None} for augment in models.keys() if augment != 'none'\n",
    "}\n",
    "\n",
    "for train_augment, model in tqdm(models.items()):\n",
    "    if train_augment == 'none': continue\n",
    "    for test_augment in equ_stats[train_augment].keys():\n",
    "        equ_stats[train_augment][test_augment] = equivariance_test(model, test_loader, rotation_type=test_augment, verbose=True)"
   ],
   "metadata": {
    "collapsed": false,
    "ExecuteTime": {
     "end_time": "2025-04-05T18:08:49.021373700Z",
     "start_time": "2025-04-05T17:54:59.165537800Z"
    }
   },
   "id": "431cf32435aa92aa"
  },
  {
   "cell_type": "code",
   "execution_count": 126,
   "outputs": [
    {
     "data": {
      "text/plain": "{'ico': {'ico': 0.0017803172752261162, 's2': 0.0018940687742084264},\n 's2': {'ico': 0.0026208006247878074, 's2': 0.0027335219338536264}}"
     },
     "execution_count": 126,
     "metadata": {},
     "output_type": "execute_result"
    }
   ],
   "source": [
    "equ_stats"
   ],
   "metadata": {
    "collapsed": false,
    "ExecuteTime": {
     "end_time": "2025-04-05T22:11:38.002593800Z",
     "start_time": "2025-04-05T22:11:37.973165500Z"
    }
   },
   "id": "3ed5ebefb9dbec44"
  },
  {
   "cell_type": "code",
   "execution_count": 129,
   "outputs": [
    {
     "data": {
      "text/plain": "<Figure size 600x400 with 1 Axes>",
      "image/png": "[encoded data removed]"
     },
     "metadata": {},
     "output_type": "display_data"
    }
   ],
   "source": [
    "def do_equivariance_plot(save_path):\n",
    "    # --- Data Preparation ---\n",
    "    # Categories for the x-axis (e.g., 'none', 'ico', 's2')\n",
    "    x_categories = list(equ_stats.keys())\n",
    "    # Assuming group labels ('ico', 's2') are consistent across categories\n",
    "    group_labels = list(equ_stats[x_categories[0]].keys())\n",
    "\n",
    "    # Reorganize scores: {group_label: [score_cat1, score_cat2, ...], ...}\n",
    "    # This structure groups scores by the type of rotation ('ico' or 's2')\n",
    "    scores_by_group = {group: [] for group in group_labels}\n",
    "    for category in x_categories:\n",
    "        for group in group_labels:\n",
    "            scores_by_group[group].append(equ_stats[category][group])\n",
    "\n",
    "    # --- Plotting Setup ---\n",
    "    n_x_categories = len(x_categories)\n",
    "    n_groups = len(group_labels)\n",
    "\n",
    "    # Calculate bar positions to achieve grouping (following example style)\n",
    "    x_indices = np.arange(n_x_categories) # Base positions for the groups [0, 1, 2]\n",
    "    bar_width = 0.35  # Width of a single bar\n",
    "    # Total width occupied by the bars for one x_category\n",
    "    total_group_width = bar_width * n_groups\n",
    "    # Calculate the offset needed to center the group of bars over the x-tick\n",
    "    offset_for_centering = (total_group_width - bar_width) / 2\n",
    "\n",
    "    fig, ax = plt.subplots(figsize=(6, 4)) # Adjust figure size if needed\n",
    "\n",
    "    cmap_name = 'Set3'\n",
    "    colormap = cm.get_cmap(cmap_name)\n",
    "    colors = [colormap(i) for i in np.linspace(0, 0.85, n_groups)]\n",
    "    ax.set_prop_cycle(color=colors)\n",
    "\n",
    "    # --- Create Bars ---\n",
    "    # Loop through each group ('ico', 's2') and plot its bars across all x_categories\n",
    "    for i, group in enumerate(group_labels):\n",
    "        # Calculate the specific x-position for the bars of the current group\n",
    "        # Start from the center (x_indices), shift left to center the whole group,\n",
    "        # then shift right based on the current group's index (i).\n",
    "        bar_positions = x_indices - offset_for_centering + i * bar_width\n",
    "\n",
    "        # Get the scores for this specific group (e.g., all 'ico' scores)\n",
    "        scores = scores_by_group[group]\n",
    "\n",
    "        # Plot the bars for the current group\n",
    "        rects = ax.bar(bar_positions, scores, bar_width,\n",
    "                       label=group.capitalize()) # Use group name for legend\n",
    "\n",
    "        # Add score labels above each bar\n",
    "        ax.bar_label(rects, padding=3, fmt='%.4f') # Format for score values\n",
    "\n",
    "    # --- Customize Plot ---\n",
    "    ax.set_xlabel('Train-time augmentation', fontsize=12)\n",
    "    ax.set_ylabel('Test Equivariance (Cosine)', fontsize=12)\n",
    "    # ax.set_title('Model Invariance Score by Training Dataset and Rotation Type') # Optional title\n",
    "    ax.set_xticks(x_indices) # Set the positions of the x-axis ticks to the group centers\n",
    "    ax.set_xticklabels([x.capitalize() for x in x_categories]) # Set the labels for the x-axis ticks\n",
    "    #ax.legend(title='Rotation Type') # Add a legend to identify bar colors\n",
    "\n",
    "    # Optional: Remove plot borders like in the example\n",
    "    ax.spines['top'].set_visible(False)\n",
    "    ax.spines['right'].set_visible(False)\n",
    "\n",
    "    # Adjust layout to prevent labels overlapping\n",
    "    plt.tight_layout()\n",
    "\n",
    "    # --- Save Plot (Optional) ---\n",
    "    if save_path is not None:\n",
    "        plt.savefig(save_path, bbox_inches='tight') # Use bbox_inches for tight saving\n",
    "\n",
    "    # --- Show Plot ---\n",
    "    plt.show()\n",
    "    \n",
    "do_equivariance_plot('./figures/equivariance_by_augment.pdf')"
   ],
   "metadata": {
    "collapsed": false,
    "ExecuteTime": {
     "end_time": "2025-04-05T22:30:06.483381300Z",
     "start_time": "2025-04-05T22:30:06.259089400Z"
    }
   },
   "id": "c23b07c37529f558"
  },
  {
   "cell_type": "code",
   "execution_count": 71,
   "outputs": [],
   "source": [
    "def chart_equivariant_errors(model, loader, rotation_type='ico', verbose=False):\n",
    "    errors = []\n",
    "    \n",
    "    with torch.no_grad():\n",
    "        for x, _ in (tqdm(loader, desc='Testing.') if verbose else loader):\n",
    "            # Onto the sphere.\n",
    "            x = project_2d_on_sphere(x.numpy(), grid)\n",
    "            x = torch.from_numpy(\n",
    "                x[:, None, :, :].astype(np.float32)\n",
    "            )\n",
    "            \n",
    "            # Onto the icosahedron.\n",
    "            ico_x = torch.tensor([s2_to_ico(signal, ico_grid) for signal in x])\n",
    "            \n",
    "            # Rotation.\n",
    "            if rotation_type == 's2':\n",
    "                rotation_matrix = random_rotation_matrix()\n",
    "            else:\n",
    "                rotation_matrix = random_icosahedral_rotation_matrix()\n",
    "                \n",
    "            ico_x_prime = ico_x.clone()\n",
    "            ico_x_prime = rotate_signal(ico_x_prime, rotation_matrix, ico_grid)\n",
    "            \n",
    "            # Move to device.\n",
    "            ico_x = ico_x.to(device)\n",
    "            ico_x_prime = ico_x_prime.to(device)\n",
    "            \n",
    "            # Model.\n",
    "            y = F.relu(model.conv1(ico_x))\n",
    "            y = F.relu(model.conv2(y))\n",
    "            \n",
    "            y_prime = F.relu(model.conv1(ico_x_prime))\n",
    "            y_prime = F.relu(model.conv2(y_prime))\n",
    "            \n",
    "            # Rotating output for y.\n",
    "            y = rotate_signal(y, rotation_matrix, ico_grid)\n",
    "            y = y.to(device)\n",
    "            \n",
    "            # Squeeze out the singleton scalar field.\n",
    "            y = y.squeeze(2)\n",
    "            y_prime = y_prime.squeeze(2)\n",
    "            \n",
    "            # Similarity.\n",
    "            error = ((y - y_prime) ** 2).mean(dim=(0, 1))\n",
    "            errors.append(error.cpu().numpy())\n",
    "            \n",
    "    return np.array(errors)"
   ],
   "metadata": {
    "collapsed": false,
    "ExecuteTime": {
     "end_time": "2025-04-05T21:16:28.012462800Z",
     "start_time": "2025-04-05T21:16:27.956127700Z"
    }
   },
   "id": "d1a5796567949e9"
  },
  {
   "cell_type": "code",
   "execution_count": 72,
   "outputs": [
    {
     "data": {
      "text/plain": "Testing.:   0%|          | 0/157 [00:00<?, ?it/s]",
      "application/vnd.jupyter.widget-view+json": {
       "version_major": 2,
       "version_minor": 0,
       "model_id": "d008f81fe41d43919467d69f98e960b7"
      }
     },
     "metadata": {},
     "output_type": "display_data"
    }
   ],
   "source": [
    "errors = chart_equivariant_errors(models['none'], test_loader, 'ico', True)"
   ],
   "metadata": {
    "collapsed": false,
    "ExecuteTime": {
     "end_time": "2025-04-05T21:16:55.542018100Z",
     "start_time": "2025-04-05T21:16:33.173244500Z"
    }
   },
   "id": "42ddcd549c812492"
  },
  {
   "cell_type": "code",
   "execution_count": 78,
   "outputs": [],
   "source": [
    "errors = errors.mean(axis=0)"
   ],
   "metadata": {
    "collapsed": false,
    "ExecuteTime": {
     "end_time": "2025-04-05T21:17:53.645221900Z",
     "start_time": "2025-04-05T21:17:53.635035Z"
    }
   },
   "id": "b2339480cf4969cd"
  },
  {
   "cell_type": "code",
   "execution_count": 87,
   "outputs": [
    {
     "data": {
      "text/plain": "<Figure size 800x300 with 5 Axes>",
      "image/png": "[encoded data removed]"
     },
     "metadata": {},
     "output_type": "display_data"
    }
   ],
   "source": [
    "cmap = cm.get_cmap('Blues')\n",
    "\n",
    "fig, axes = plt.subplots(1, 5, figsize=(8, 3))\n",
    "for i in range(5):\n",
    "    ax = axes[i]\n",
    "    im = ax.imshow(errors[i], origin='lower', cmap=cmap)\n",
    "    ax.set_title(f'Chart {i+1}')\n",
    "    ax.axis('off')\n",
    "    \n",
    "plt.tight_layout()\n",
    "plt.show()"
   ],
   "metadata": {
    "collapsed": false,
    "ExecuteTime": {
     "end_time": "2025-04-05T21:20:11.450680700Z",
     "start_time": "2025-04-05T21:20:11.377312400Z"
    }
   },
   "id": "63888ab3a672378d"
  },
  {
   "cell_type": "code",
   "execution_count": 94,
   "outputs": [
    {
     "data": {
      "text/plain": "Testing.:   0%|          | 0/157 [00:00<?, ?it/s]",
      "application/vnd.jupyter.widget-view+json": {
       "version_major": 2,
       "version_minor": 0,
       "model_id": "a7b7e857eee64f99988551ac269849f7"
      }
     },
     "metadata": {},
     "output_type": "display_data"
    },
    {
     "data": {
      "text/plain": "Testing.:   0%|          | 0/157 [00:00<?, ?it/s]",
      "application/vnd.jupyter.widget-view+json": {
       "version_major": 2,
       "version_minor": 0,
       "model_id": "e841714f2d034f3288e47064fa6aca4c"
      }
     },
     "metadata": {},
     "output_type": "display_data"
    },
    {
     "data": {
      "text/plain": "Testing.:   0%|          | 0/157 [00:00<?, ?it/s]",
      "application/vnd.jupyter.widget-view+json": {
       "version_major": 2,
       "version_minor": 0,
       "model_id": "f8e585d785ca48f8ad17cc6e09d7ccdf"
      }
     },
     "metadata": {},
     "output_type": "display_data"
    },
    {
     "data": {
      "text/plain": "Testing.:   0%|          | 0/157 [00:00<?, ?it/s]",
      "application/vnd.jupyter.widget-view+json": {
       "version_major": 2,
       "version_minor": 0,
       "model_id": "3c6ce592ea614dbaa8d44ea39455e9b7"
      }
     },
     "metadata": {},
     "output_type": "display_data"
    }
   ],
   "source": [
    "errors_by_augment = {}\n",
    "\n",
    "for train_augment in ['ico', 's2']:\n",
    "    for test_augment in ['ico', 's2']:\n",
    "        errors_by_augment[(train_augment, test_augment)] = chart_equivariant_errors(models[train_augment], test_loader, test_augment, True).mean(axis=0)"
   ],
   "metadata": {
    "collapsed": false,
    "ExecuteTime": {
     "end_time": "2025-04-05T21:31:48.158770400Z",
     "start_time": "2025-04-05T21:30:26.457202700Z"
    }
   },
   "id": "45a2da314cca7517"
  },
  {
   "cell_type": "code",
   "execution_count": 124,
   "outputs": [
    {
     "data": {
      "text/plain": "<Figure size 800x400 with 20 Axes>",
      "image/png": "[encoded data removed]"
     },
     "metadata": {},
     "output_type": "display_data"
    }
   ],
   "source": [
    "cmap = cm.get_cmap('Blues_r')\n",
    "\n",
    "fig, axes = plt.subplots(4, 5, figsize=(8, 4))\n",
    "for j in range(4):\n",
    "    for i in range(5):\n",
    "        ax = axes[j][i]\n",
    "        im = ax.imshow(errors_by_augment[list(errors_by_augment.keys())[j]][i], origin='lower', cmap=cmap)\n",
    "        if j == 0:\n",
    "            ax.set_title(f'Chart {i+1}')\n",
    "        if i == 0:\n",
    "            label = '-'.join((x.capitalize() for x in list(errors_by_augment.keys())[j]))\n",
    "            ax.set_ylabel(label, fontsize=12)\n",
    "        #ax.axis('off')\n",
    "        ax.set_xticks([])\n",
    "        ax.set_yticks([])\n",
    "    \n",
    "plt.tight_layout()\n",
    "#plt.savefig('./figures/chart_equivariance_heatmaps.pdf', bbox_inches='tight')\n",
    "plt.show()"
   ],
   "metadata": {
    "collapsed": false,
    "ExecuteTime": {
     "end_time": "2025-04-05T22:08:52.611241200Z",
     "start_time": "2025-04-05T22:08:52.032565100Z"
    }
   },
   "id": "b965bd781ffc6374"
  },
  {
   "cell_type": "code",
   "execution_count": 119,
   "outputs": [],
   "source": [
    "equ_stats = {\n",
    "    'ico': {\n",
    "        'ico' : errors_by_augment[('ico', 'ico')].mean(),\n",
    "        's2'  : errors_by_augment[('ico', 's2')].mean()\n",
    "    },\n",
    "    's2': {\n",
    "        'ico' : errors_by_augment[('s2', 'ico')].mean(),\n",
    "        's2'  : errors_by_augment[('s2', 's2')].mean()\n",
    "    }\n",
    "}"
   ],
   "metadata": {
    "collapsed": false,
    "ExecuteTime": {
     "end_time": "2025-04-05T21:50:00.511970400Z",
     "start_time": "2025-04-05T21:50:00.472290100Z"
    }
   },
   "id": "72bb12903d33df63"
  },
  {
   "cell_type": "code",
   "execution_count": 121,
   "outputs": [
    {
     "data": {
      "text/plain": "<Figure size 600x400 with 1 Axes>",
      "image/png": "[encoded data removed]"
     },
     "metadata": {},
     "output_type": "display_data"
    }
   ],
   "source": [
    "do_equivariance_plot(None)"
   ],
   "metadata": {
    "collapsed": false,
    "ExecuteTime": {
     "end_time": "2025-04-05T21:50:18.369828400Z",
     "start_time": "2025-04-05T21:50:18.296205600Z"
    }
   },
   "id": "1f6c6a4a5901801d"
  }
 ],
 "metadata": {
  "kernelspec": {
   "display_name": "Python 3",
   "language": "python",
   "name": "python3"
  },
  "language_info": {
   "codemirror_mode": {
    "name": "ipython",
    "version": 2
   },
   "file_extension": ".py",
   "mimetype": "text/x-python",
   "name": "python",
   "nbconvert_exporter": "python",
   "pygments_lexer": "ipython2",
   "version": "2.7.6"
  }
 },
 "nbformat": 4,
 "nbformat_minor": 5
}
